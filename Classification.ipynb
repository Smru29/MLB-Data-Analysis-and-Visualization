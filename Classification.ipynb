{
 "cells": [
  {
   "cell_type": "markdown",
   "metadata": {},
   "source": [
    "## Classification Model Using Decision Tree\n",
    "\n",
    "# Follow the EDA steps\n",
    "\n",
    "# 1. Calling class\n",
    "# 2. Defining data\n",
    "# 3. Applying Machine Learning Algorithm\n",
    "# 4. Predicting data\n",
    "# 5. Evaluating data"
   ]
  },
  {
   "cell_type": "markdown",
   "metadata": {},
   "source": [
    "## 1. Calling class"
   ]
  },
  {
   "cell_type": "code",
   "execution_count": 72,
   "metadata": {},
   "outputs": [],
   "source": [
    "from sklearn.tree import DecisionTreeClassifier\n",
    "from sklearn.metrics import accuracy_score\n",
    "from sklearn.model_selection import train_test_split\n",
    "from sklearn import preprocessing\n",
    "import pandas as pd\n",
    "import numpy as np\n",
    "import seaborn as sns\n",
    "import matplotlib.pyplot as plt"
   ]
  },
  {
   "cell_type": "markdown",
   "metadata": {},
   "source": [
    "## 2. Defining the data "
   ]
  },
  {
   "cell_type": "markdown",
   "metadata": {},
   "source": [
    "### Reading the data"
   ]
  },
  {
   "cell_type": "code",
   "execution_count": 73,
   "metadata": {},
   "outputs": [
    {
     "data": {
      "text/html": [
       "<div>\n",
       "<style scoped>\n",
       "    .dataframe tbody tr th:only-of-type {\n",
       "        vertical-align: middle;\n",
       "    }\n",
       "\n",
       "    .dataframe tbody tr th {\n",
       "        vertical-align: top;\n",
       "    }\n",
       "\n",
       "    .dataframe thead th {\n",
       "        text-align: right;\n",
       "    }\n",
       "</style>\n",
       "<table border=\"1\" class=\"dataframe\">\n",
       "  <thead>\n",
       "    <tr style=\"text-align: right;\">\n",
       "      <th></th>\n",
       "      <th>date</th>\n",
       "      <th>season</th>\n",
       "      <th>neutral</th>\n",
       "      <th>playoff</th>\n",
       "      <th>team1</th>\n",
       "      <th>team2</th>\n",
       "      <th>elo1_pre</th>\n",
       "      <th>elo2_pre</th>\n",
       "      <th>elo_prob1</th>\n",
       "      <th>elo_prob2</th>\n",
       "      <th>...</th>\n",
       "      <th>pitcher1_rgs</th>\n",
       "      <th>pitcher2_rgs</th>\n",
       "      <th>pitcher1_adj</th>\n",
       "      <th>pitcher2_adj</th>\n",
       "      <th>rating_prob1</th>\n",
       "      <th>rating_prob2</th>\n",
       "      <th>rating1_post</th>\n",
       "      <th>rating2_post</th>\n",
       "      <th>score1</th>\n",
       "      <th>score2</th>\n",
       "    </tr>\n",
       "  </thead>\n",
       "  <tbody>\n",
       "    <tr>\n",
       "      <th>0</th>\n",
       "      <td>2019-10-30</td>\n",
       "      <td>2019</td>\n",
       "      <td>0</td>\n",
       "      <td>w</td>\n",
       "      <td>HOU</td>\n",
       "      <td>WSN</td>\n",
       "      <td>1599.54</td>\n",
       "      <td>1584.36</td>\n",
       "      <td>0.57</td>\n",
       "      <td>0.43</td>\n",
       "      <td>...</td>\n",
       "      <td>56.92</td>\n",
       "      <td>61.72</td>\n",
       "      <td>0.99</td>\n",
       "      <td>27.78</td>\n",
       "      <td>0.52</td>\n",
       "      <td>0.48</td>\n",
       "      <td>1587.97</td>\n",
       "      <td>1583.38</td>\n",
       "      <td>2</td>\n",
       "      <td>6</td>\n",
       "    </tr>\n",
       "    <tr>\n",
       "      <th>1</th>\n",
       "      <td>2019-10-29</td>\n",
       "      <td>2019</td>\n",
       "      <td>0</td>\n",
       "      <td>w</td>\n",
       "      <td>HOU</td>\n",
       "      <td>WSN</td>\n",
       "      <td>1605.07</td>\n",
       "      <td>1578.84</td>\n",
       "      <td>0.60</td>\n",
       "      <td>0.40</td>\n",
       "      <td>...</td>\n",
       "      <td>62.98</td>\n",
       "      <td>60.27</td>\n",
       "      <td>28.72</td>\n",
       "      <td>21.78</td>\n",
       "      <td>0.59</td>\n",
       "      <td>0.41</td>\n",
       "      <td>1591.03</td>\n",
       "      <td>1580.33</td>\n",
       "      <td>2</td>\n",
       "      <td>7</td>\n",
       "    </tr>\n",
       "    <tr>\n",
       "      <th>2</th>\n",
       "      <td>2019-10-27</td>\n",
       "      <td>2019</td>\n",
       "      <td>0</td>\n",
       "      <td>w</td>\n",
       "      <td>WSN</td>\n",
       "      <td>HOU</td>\n",
       "      <td>1584.01</td>\n",
       "      <td>1599.90</td>\n",
       "      <td>0.52</td>\n",
       "      <td>0.48</td>\n",
       "      <td>...</td>\n",
       "      <td>49.43</td>\n",
       "      <td>66.89</td>\n",
       "      <td>-29.81</td>\n",
       "      <td>47.89</td>\n",
       "      <td>0.37</td>\n",
       "      <td>0.63</td>\n",
       "      <td>1576.19</td>\n",
       "      <td>1595.17</td>\n",
       "      <td>1</td>\n",
       "      <td>7</td>\n",
       "    </tr>\n",
       "    <tr>\n",
       "      <th>3</th>\n",
       "      <td>2019-10-26</td>\n",
       "      <td>2019</td>\n",
       "      <td>0</td>\n",
       "      <td>w</td>\n",
       "      <td>WSN</td>\n",
       "      <td>HOU</td>\n",
       "      <td>1589.99</td>\n",
       "      <td>1593.92</td>\n",
       "      <td>0.54</td>\n",
       "      <td>0.46</td>\n",
       "      <td>...</td>\n",
       "      <td>56.00</td>\n",
       "      <td>51.25</td>\n",
       "      <td>0.82</td>\n",
       "      <td>-24.89</td>\n",
       "      <td>0.59</td>\n",
       "      <td>0.41</td>\n",
       "      <td>1578.72</td>\n",
       "      <td>1592.63</td>\n",
       "      <td>1</td>\n",
       "      <td>8</td>\n",
       "    </tr>\n",
       "    <tr>\n",
       "      <th>4</th>\n",
       "      <td>2019-10-25</td>\n",
       "      <td>2019</td>\n",
       "      <td>0</td>\n",
       "      <td>w</td>\n",
       "      <td>WSN</td>\n",
       "      <td>HOU</td>\n",
       "      <td>1593.83</td>\n",
       "      <td>1590.08</td>\n",
       "      <td>0.55</td>\n",
       "      <td>0.45</td>\n",
       "      <td>...</td>\n",
       "      <td>54.04</td>\n",
       "      <td>57.10</td>\n",
       "      <td>-9.05</td>\n",
       "      <td>2.44</td>\n",
       "      <td>0.53</td>\n",
       "      <td>0.47</td>\n",
       "      <td>1583.72</td>\n",
       "      <td>1587.64</td>\n",
       "      <td>1</td>\n",
       "      <td>4</td>\n",
       "    </tr>\n",
       "  </tbody>\n",
       "</table>\n",
       "<p>5 rows × 26 columns</p>\n",
       "</div>"
      ],
      "text/plain": [
       "         date  season  neutral playoff team1 team2  elo1_pre  elo2_pre  elo_prob1  elo_prob2  ...  \\\n",
       "0  2019-10-30    2019        0       w   HOU   WSN   1599.54   1584.36       0.57       0.43  ...   \n",
       "1  2019-10-29    2019        0       w   HOU   WSN   1605.07   1578.84       0.60       0.40  ...   \n",
       "2  2019-10-27    2019        0       w   WSN   HOU   1584.01   1599.90       0.52       0.48  ...   \n",
       "3  2019-10-26    2019        0       w   WSN   HOU   1589.99   1593.92       0.54       0.46  ...   \n",
       "4  2019-10-25    2019        0       w   WSN   HOU   1593.83   1590.08       0.55       0.45  ...   \n",
       "\n",
       "   pitcher1_rgs  pitcher2_rgs  pitcher1_adj  pitcher2_adj rating_prob1 rating_prob2  rating1_post  \\\n",
       "0         56.92         61.72          0.99         27.78         0.52         0.48       1587.97   \n",
       "1         62.98         60.27         28.72         21.78         0.59         0.41       1591.03   \n",
       "2         49.43         66.89        -29.81         47.89         0.37         0.63       1576.19   \n",
       "3         56.00         51.25          0.82        -24.89         0.59         0.41       1578.72   \n",
       "4         54.04         57.10         -9.05          2.44         0.53         0.47       1583.72   \n",
       "\n",
       "   rating2_post  score1  score2  \n",
       "0       1583.38       2       6  \n",
       "1       1580.33       2       7  \n",
       "2       1595.17       1       7  \n",
       "3       1592.63       1       8  \n",
       "4       1587.64       1       4  \n",
       "\n",
       "[5 rows x 26 columns]"
      ]
     },
     "execution_count": 73,
     "metadata": {},
     "output_type": "execute_result"
    }
   ],
   "source": [
    "data=pd.read_csv(\"mlb_elo.csv\")\n",
    "data.head(5)"
   ]
  },
  {
   "cell_type": "markdown",
   "metadata": {},
   "source": [
    "### Adding column \"result\" into a dataset"
   ]
  },
  {
   "cell_type": "code",
   "execution_count": 74,
   "metadata": {},
   "outputs": [],
   "source": [
    "conditions=[data['score1']>data['score2'],data['score1']<data['score2']]\n",
    "values=[1,0]\n",
    "data['result']=np.select(conditions,values)"
   ]
  },
  {
   "cell_type": "markdown",
   "metadata": {},
   "source": [
    "### Grouping the value of the target variable i.e. result"
   ]
  },
  {
   "cell_type": "code",
   "execution_count": 75,
   "metadata": {},
   "outputs": [
    {
     "name": "stdout",
     "output_type": "stream",
     "text": [
      "result\n",
      "0    1163\n",
      "1    1303\n",
      "dtype: int64\n"
     ]
    }
   ],
   "source": [
    "result_count=data.groupby('result').size()\n",
    "print(result_count)"
   ]
  },
  {
   "cell_type": "code",
   "execution_count": 110,
   "metadata": {},
   "outputs": [
    {
     "data": {
      "image/png": "[encoded data removed]",
      "text/plain": [
       "<Figure size 360x504 with 1 Axes>"
      ]
     },
     "metadata": {
      "needs_background": "light"
     },
     "output_type": "display_data"
    }
   ],
   "source": [
    "fig = plt.subplots(figsize=(5,7))\n",
    "sns.countplot('result',data = data)\n",
    "plt.title(\"Winning and Losing data of Home team\")\n",
    "plt.show()"
   ]
  },
  {
   "cell_type": "markdown",
   "metadata": {},
   "source": [
    "### Viewing the data"
   ]
  },
  {
   "cell_type": "code",
   "execution_count": 77,
   "metadata": {},
   "outputs": [
    {
     "data": {
      "text/html": [
       "<div>\n",
       "<style scoped>\n",
       "    .dataframe tbody tr th:only-of-type {\n",
       "        vertical-align: middle;\n",
       "    }\n",
       "\n",
       "    .dataframe tbody tr th {\n",
       "        vertical-align: top;\n",
       "    }\n",
       "\n",
       "    .dataframe thead th {\n",
       "        text-align: right;\n",
       "    }\n",
       "</style>\n",
       "<table border=\"1\" class=\"dataframe\">\n",
       "  <thead>\n",
       "    <tr style=\"text-align: right;\">\n",
       "      <th></th>\n",
       "      <th>date</th>\n",
       "      <th>season</th>\n",
       "      <th>neutral</th>\n",
       "      <th>playoff</th>\n",
       "      <th>team1</th>\n",
       "      <th>team2</th>\n",
       "      <th>elo1_pre</th>\n",
       "      <th>elo2_pre</th>\n",
       "      <th>elo_prob1</th>\n",
       "      <th>elo_prob2</th>\n",
       "      <th>...</th>\n",
       "      <th>pitcher2_rgs</th>\n",
       "      <th>pitcher1_adj</th>\n",
       "      <th>pitcher2_adj</th>\n",
       "      <th>rating_prob1</th>\n",
       "      <th>rating_prob2</th>\n",
       "      <th>rating1_post</th>\n",
       "      <th>rating2_post</th>\n",
       "      <th>score1</th>\n",
       "      <th>score2</th>\n",
       "      <th>result</th>\n",
       "    </tr>\n",
       "  </thead>\n",
       "  <tbody>\n",
       "    <tr>\n",
       "      <th>0</th>\n",
       "      <td>2019-10-30</td>\n",
       "      <td>2019</td>\n",
       "      <td>0</td>\n",
       "      <td>w</td>\n",
       "      <td>HOU</td>\n",
       "      <td>WSN</td>\n",
       "      <td>1599.54</td>\n",
       "      <td>1584.36</td>\n",
       "      <td>0.57</td>\n",
       "      <td>0.43</td>\n",
       "      <td>...</td>\n",
       "      <td>61.72</td>\n",
       "      <td>0.99</td>\n",
       "      <td>27.78</td>\n",
       "      <td>0.52</td>\n",
       "      <td>0.48</td>\n",
       "      <td>1587.97</td>\n",
       "      <td>1583.38</td>\n",
       "      <td>2</td>\n",
       "      <td>6</td>\n",
       "      <td>0</td>\n",
       "    </tr>\n",
       "    <tr>\n",
       "      <th>1</th>\n",
       "      <td>2019-10-29</td>\n",
       "      <td>2019</td>\n",
       "      <td>0</td>\n",
       "      <td>w</td>\n",
       "      <td>HOU</td>\n",
       "      <td>WSN</td>\n",
       "      <td>1605.07</td>\n",
       "      <td>1578.84</td>\n",
       "      <td>0.60</td>\n",
       "      <td>0.40</td>\n",
       "      <td>...</td>\n",
       "      <td>60.27</td>\n",
       "      <td>28.72</td>\n",
       "      <td>21.78</td>\n",
       "      <td>0.59</td>\n",
       "      <td>0.41</td>\n",
       "      <td>1591.03</td>\n",
       "      <td>1580.33</td>\n",
       "      <td>2</td>\n",
       "      <td>7</td>\n",
       "      <td>0</td>\n",
       "    </tr>\n",
       "    <tr>\n",
       "      <th>2</th>\n",
       "      <td>2019-10-27</td>\n",
       "      <td>2019</td>\n",
       "      <td>0</td>\n",
       "      <td>w</td>\n",
       "      <td>WSN</td>\n",
       "      <td>HOU</td>\n",
       "      <td>1584.01</td>\n",
       "      <td>1599.90</td>\n",
       "      <td>0.52</td>\n",
       "      <td>0.48</td>\n",
       "      <td>...</td>\n",
       "      <td>66.89</td>\n",
       "      <td>-29.81</td>\n",
       "      <td>47.89</td>\n",
       "      <td>0.37</td>\n",
       "      <td>0.63</td>\n",
       "      <td>1576.19</td>\n",
       "      <td>1595.17</td>\n",
       "      <td>1</td>\n",
       "      <td>7</td>\n",
       "      <td>0</td>\n",
       "    </tr>\n",
       "    <tr>\n",
       "      <th>3</th>\n",
       "      <td>2019-10-26</td>\n",
       "      <td>2019</td>\n",
       "      <td>0</td>\n",
       "      <td>w</td>\n",
       "      <td>WSN</td>\n",
       "      <td>HOU</td>\n",
       "      <td>1589.99</td>\n",
       "      <td>1593.92</td>\n",
       "      <td>0.54</td>\n",
       "      <td>0.46</td>\n",
       "      <td>...</td>\n",
       "      <td>51.25</td>\n",
       "      <td>0.82</td>\n",
       "      <td>-24.89</td>\n",
       "      <td>0.59</td>\n",
       "      <td>0.41</td>\n",
       "      <td>1578.72</td>\n",
       "      <td>1592.63</td>\n",
       "      <td>1</td>\n",
       "      <td>8</td>\n",
       "      <td>0</td>\n",
       "    </tr>\n",
       "    <tr>\n",
       "      <th>4</th>\n",
       "      <td>2019-10-25</td>\n",
       "      <td>2019</td>\n",
       "      <td>0</td>\n",
       "      <td>w</td>\n",
       "      <td>WSN</td>\n",
       "      <td>HOU</td>\n",
       "      <td>1593.83</td>\n",
       "      <td>1590.08</td>\n",
       "      <td>0.55</td>\n",
       "      <td>0.45</td>\n",
       "      <td>...</td>\n",
       "      <td>57.10</td>\n",
       "      <td>-9.05</td>\n",
       "      <td>2.44</td>\n",
       "      <td>0.53</td>\n",
       "      <td>0.47</td>\n",
       "      <td>1583.72</td>\n",
       "      <td>1587.64</td>\n",
       "      <td>1</td>\n",
       "      <td>4</td>\n",
       "      <td>0</td>\n",
       "    </tr>\n",
       "  </tbody>\n",
       "</table>\n",
       "<p>5 rows × 27 columns</p>\n",
       "</div>"
      ],
      "text/plain": [
       "         date  season  neutral playoff team1 team2  elo1_pre  elo2_pre  elo_prob1  elo_prob2  ...  \\\n",
       "0  2019-10-30    2019        0       w   HOU   WSN   1599.54   1584.36       0.57       0.43  ...   \n",
       "1  2019-10-29    2019        0       w   HOU   WSN   1605.07   1578.84       0.60       0.40  ...   \n",
       "2  2019-10-27    2019        0       w   WSN   HOU   1584.01   1599.90       0.52       0.48  ...   \n",
       "3  2019-10-26    2019        0       w   WSN   HOU   1589.99   1593.92       0.54       0.46  ...   \n",
       "4  2019-10-25    2019        0       w   WSN   HOU   1593.83   1590.08       0.55       0.45  ...   \n",
       "\n",
       "   pitcher2_rgs  pitcher1_adj  pitcher2_adj  rating_prob1 rating_prob2 rating1_post  rating2_post  \\\n",
       "0         61.72          0.99         27.78          0.52         0.48      1587.97       1583.38   \n",
       "1         60.27         28.72         21.78          0.59         0.41      1591.03       1580.33   \n",
       "2         66.89        -29.81         47.89          0.37         0.63      1576.19       1595.17   \n",
       "3         51.25          0.82        -24.89          0.59         0.41      1578.72       1592.63   \n",
       "4         57.10         -9.05          2.44          0.53         0.47      1583.72       1587.64   \n",
       "\n",
       "   score1  score2  result  \n",
       "0       2       6       0  \n",
       "1       2       7       0  \n",
       "2       1       7       0  \n",
       "3       1       8       0  \n",
       "4       1       4       0  \n",
       "\n",
       "[5 rows x 27 columns]"
      ]
     },
     "execution_count": 77,
     "metadata": {},
     "output_type": "execute_result"
    }
   ],
   "source": [
    "data.head(5)"
   ]
  },
  {
   "cell_type": "markdown",
   "metadata": {},
   "source": [
    "### Shape of the data i.e. data is of standard variance"
   ]
  },
  {
   "cell_type": "code",
   "execution_count": 78,
   "metadata": {},
   "outputs": [
    {
     "data": {
      "text/plain": [
       "(2466, 27)"
      ]
     },
     "execution_count": 78,
     "metadata": {},
     "output_type": "execute_result"
    }
   ],
   "source": [
    "data.shape"
   ]
  },
  {
   "cell_type": "markdown",
   "metadata": {},
   "source": [
    "### Deleting the unwanted columns from the dataset"
   ]
  },
  {
   "cell_type": "code",
   "execution_count": 79,
   "metadata": {},
   "outputs": [],
   "source": [
    "data = data.drop(columns=[\"score1\",\"score2\"])"
   ]
  },
  {
   "cell_type": "code",
   "execution_count": 80,
   "metadata": {},
   "outputs": [],
   "source": [
    "data=data.drop(columns=[\"date\",\"rating1_post\",\"rating2_post\",\"team1\",\"team2\"])"
   ]
  },
  {
   "cell_type": "code",
   "execution_count": 81,
   "metadata": {},
   "outputs": [],
   "source": [
    "data=data.drop(columns=[\"pitcher1\",\"pitcher2\",\"playoff\",\"season\",\"neutral\",\"elo1_post\",\"elo2_post\"])"
   ]
  },
  {
   "cell_type": "markdown",
   "metadata": {},
   "source": [
    "### Displaying the width of the dataset"
   ]
  },
  {
   "cell_type": "code",
   "execution_count": 82,
   "metadata": {},
   "outputs": [],
   "source": [
    "pd.set_option('display.width',100)"
   ]
  },
  {
   "cell_type": "code",
   "execution_count": 83,
   "metadata": {},
   "outputs": [
    {
     "data": {
      "text/html": [
       "<div>\n",
       "<style scoped>\n",
       "    .dataframe tbody tr th:only-of-type {\n",
       "        vertical-align: middle;\n",
       "    }\n",
       "\n",
       "    .dataframe tbody tr th {\n",
       "        vertical-align: top;\n",
       "    }\n",
       "\n",
       "    .dataframe thead th {\n",
       "        text-align: right;\n",
       "    }\n",
       "</style>\n",
       "<table border=\"1\" class=\"dataframe\">\n",
       "  <thead>\n",
       "    <tr style=\"text-align: right;\">\n",
       "      <th></th>\n",
       "      <th>elo1_pre</th>\n",
       "      <th>elo2_pre</th>\n",
       "      <th>elo_prob1</th>\n",
       "      <th>elo_prob2</th>\n",
       "      <th>rating1_pre</th>\n",
       "      <th>rating2_pre</th>\n",
       "      <th>pitcher1_rgs</th>\n",
       "      <th>pitcher2_rgs</th>\n",
       "      <th>pitcher1_adj</th>\n",
       "      <th>pitcher2_adj</th>\n",
       "      <th>rating_prob1</th>\n",
       "      <th>rating_prob2</th>\n",
       "      <th>result</th>\n",
       "    </tr>\n",
       "  </thead>\n",
       "  <tbody>\n",
       "    <tr>\n",
       "      <th>count</th>\n",
       "      <td>2466.00</td>\n",
       "      <td>2466.00</td>\n",
       "      <td>2466.00</td>\n",
       "      <td>2466.00</td>\n",
       "      <td>2466.00</td>\n",
       "      <td>2466.00</td>\n",
       "      <td>2466.00</td>\n",
       "      <td>2466.00</td>\n",
       "      <td>2466.00</td>\n",
       "      <td>2466.00</td>\n",
       "      <td>2466.00</td>\n",
       "      <td>2466.00</td>\n",
       "      <td>2466.00</td>\n",
       "    </tr>\n",
       "    <tr>\n",
       "      <th>mean</th>\n",
       "      <td>1506.17</td>\n",
       "      <td>1506.04</td>\n",
       "      <td>0.53</td>\n",
       "      <td>0.47</td>\n",
       "      <td>1506.07</td>\n",
       "      <td>1506.01</td>\n",
       "      <td>50.79</td>\n",
       "      <td>50.92</td>\n",
       "      <td>0.91</td>\n",
       "      <td>1.41</td>\n",
       "      <td>0.53</td>\n",
       "      <td>0.47</td>\n",
       "      <td>0.53</td>\n",
       "    </tr>\n",
       "    <tr>\n",
       "      <th>std</th>\n",
       "      <td>43.52</td>\n",
       "      <td>43.58</td>\n",
       "      <td>0.09</td>\n",
       "      <td>0.09</td>\n",
       "      <td>45.67</td>\n",
       "      <td>45.63</td>\n",
       "      <td>4.41</td>\n",
       "      <td>4.39</td>\n",
       "      <td>17.28</td>\n",
       "      <td>16.95</td>\n",
       "      <td>0.10</td>\n",
       "      <td>0.10</td>\n",
       "      <td>0.50</td>\n",
       "    </tr>\n",
       "    <tr>\n",
       "      <th>min</th>\n",
       "      <td>1380.75</td>\n",
       "      <td>1377.39</td>\n",
       "      <td>0.27</td>\n",
       "      <td>0.22</td>\n",
       "      <td>1386.35</td>\n",
       "      <td>1383.39</td>\n",
       "      <td>38.80</td>\n",
       "      <td>38.65</td>\n",
       "      <td>-54.86</td>\n",
       "      <td>-66.76</td>\n",
       "      <td>0.25</td>\n",
       "      <td>0.19</td>\n",
       "      <td>0.00</td>\n",
       "    </tr>\n",
       "    <tr>\n",
       "      <th>25%</th>\n",
       "      <td>1473.27</td>\n",
       "      <td>1473.70</td>\n",
       "      <td>0.48</td>\n",
       "      <td>0.41</td>\n",
       "      <td>1474.37</td>\n",
       "      <td>1475.07</td>\n",
       "      <td>47.71</td>\n",
       "      <td>47.77</td>\n",
       "      <td>-11.13</td>\n",
       "      <td>-10.28</td>\n",
       "      <td>0.47</td>\n",
       "      <td>0.40</td>\n",
       "      <td>0.00</td>\n",
       "    </tr>\n",
       "    <tr>\n",
       "      <th>50%</th>\n",
       "      <td>1508.95</td>\n",
       "      <td>1507.45</td>\n",
       "      <td>0.54</td>\n",
       "      <td>0.46</td>\n",
       "      <td>1512.28</td>\n",
       "      <td>1512.24</td>\n",
       "      <td>50.14</td>\n",
       "      <td>50.23</td>\n",
       "      <td>0.78</td>\n",
       "      <td>0.91</td>\n",
       "      <td>0.54</td>\n",
       "      <td>0.46</td>\n",
       "      <td>1.00</td>\n",
       "    </tr>\n",
       "    <tr>\n",
       "      <th>75%</th>\n",
       "      <td>1540.12</td>\n",
       "      <td>1540.21</td>\n",
       "      <td>0.59</td>\n",
       "      <td>0.52</td>\n",
       "      <td>1537.71</td>\n",
       "      <td>1537.49</td>\n",
       "      <td>53.16</td>\n",
       "      <td>53.34</td>\n",
       "      <td>11.82</td>\n",
       "      <td>12.25</td>\n",
       "      <td>0.60</td>\n",
       "      <td>0.53</td>\n",
       "      <td>1.00</td>\n",
       "    </tr>\n",
       "    <tr>\n",
       "      <th>max</th>\n",
       "      <td>1605.07</td>\n",
       "      <td>1603.77</td>\n",
       "      <td>0.78</td>\n",
       "      <td>0.73</td>\n",
       "      <td>1598.56</td>\n",
       "      <td>1599.13</td>\n",
       "      <td>68.00</td>\n",
       "      <td>67.74</td>\n",
       "      <td>57.72</td>\n",
       "      <td>54.73</td>\n",
       "      <td>0.81</td>\n",
       "      <td>0.75</td>\n",
       "      <td>1.00</td>\n",
       "    </tr>\n",
       "  </tbody>\n",
       "</table>\n",
       "</div>"
      ],
      "text/plain": [
       "       elo1_pre  elo2_pre  elo_prob1  elo_prob2  rating1_pre  rating2_pre  pitcher1_rgs  \\\n",
       "count   2466.00   2466.00    2466.00    2466.00      2466.00      2466.00       2466.00   \n",
       "mean    1506.17   1506.04       0.53       0.47      1506.07      1506.01         50.79   \n",
       "std       43.52     43.58       0.09       0.09        45.67        45.63          4.41   \n",
       "min     1380.75   1377.39       0.27       0.22      1386.35      1383.39         38.80   \n",
       "25%     1473.27   1473.70       0.48       0.41      1474.37      1475.07         47.71   \n",
       "50%     1508.95   1507.45       0.54       0.46      1512.28      1512.24         50.14   \n",
       "75%     1540.12   1540.21       0.59       0.52      1537.71      1537.49         53.16   \n",
       "max     1605.07   1603.77       0.78       0.73      1598.56      1599.13         68.00   \n",
       "\n",
       "       pitcher2_rgs  pitcher1_adj  pitcher2_adj  rating_prob1  rating_prob2   result  \n",
       "count       2466.00       2466.00       2466.00       2466.00       2466.00  2466.00  \n",
       "mean          50.92          0.91          1.41          0.53          0.47     0.53  \n",
       "std            4.39         17.28         16.95          0.10          0.10     0.50  \n",
       "min           38.65        -54.86        -66.76          0.25          0.19     0.00  \n",
       "25%           47.77        -11.13        -10.28          0.47          0.40     0.00  \n",
       "50%           50.23          0.78          0.91          0.54          0.46     1.00  \n",
       "75%           53.34         11.82         12.25          0.60          0.53     1.00  \n",
       "max           67.74         57.72         54.73          0.81          0.75     1.00  "
      ]
     },
     "execution_count": 83,
     "metadata": {},
     "output_type": "execute_result"
    }
   ],
   "source": [
    "data.describe()"
   ]
  },
  {
   "cell_type": "markdown",
   "metadata": {},
   "source": [
    "### Precision of dataset by 2 decimal places"
   ]
  },
  {
   "cell_type": "code",
   "execution_count": 84,
   "metadata": {},
   "outputs": [],
   "source": [
    "pd.set_option('precision',2)"
   ]
  },
  {
   "cell_type": "code",
   "execution_count": 85,
   "metadata": {},
   "outputs": [
    {
     "data": {
      "text/html": [
       "<div>\n",
       "<style scoped>\n",
       "    .dataframe tbody tr th:only-of-type {\n",
       "        vertical-align: middle;\n",
       "    }\n",
       "\n",
       "    .dataframe tbody tr th {\n",
       "        vertical-align: top;\n",
       "    }\n",
       "\n",
       "    .dataframe thead th {\n",
       "        text-align: right;\n",
       "    }\n",
       "</style>\n",
       "<table border=\"1\" class=\"dataframe\">\n",
       "  <thead>\n",
       "    <tr style=\"text-align: right;\">\n",
       "      <th></th>\n",
       "      <th>elo1_pre</th>\n",
       "      <th>elo2_pre</th>\n",
       "      <th>elo_prob1</th>\n",
       "      <th>elo_prob2</th>\n",
       "      <th>rating1_pre</th>\n",
       "      <th>rating2_pre</th>\n",
       "      <th>pitcher1_rgs</th>\n",
       "      <th>pitcher2_rgs</th>\n",
       "      <th>pitcher1_adj</th>\n",
       "      <th>pitcher2_adj</th>\n",
       "      <th>rating_prob1</th>\n",
       "      <th>rating_prob2</th>\n",
       "      <th>result</th>\n",
       "    </tr>\n",
       "  </thead>\n",
       "  <tbody>\n",
       "    <tr>\n",
       "      <th>count</th>\n",
       "      <td>2466.00</td>\n",
       "      <td>2466.00</td>\n",
       "      <td>2466.00</td>\n",
       "      <td>2466.00</td>\n",
       "      <td>2466.00</td>\n",
       "      <td>2466.00</td>\n",
       "      <td>2466.00</td>\n",
       "      <td>2466.00</td>\n",
       "      <td>2466.00</td>\n",
       "      <td>2466.00</td>\n",
       "      <td>2466.00</td>\n",
       "      <td>2466.00</td>\n",
       "      <td>2466.00</td>\n",
       "    </tr>\n",
       "    <tr>\n",
       "      <th>mean</th>\n",
       "      <td>1506.17</td>\n",
       "      <td>1506.04</td>\n",
       "      <td>0.53</td>\n",
       "      <td>0.47</td>\n",
       "      <td>1506.07</td>\n",
       "      <td>1506.01</td>\n",
       "      <td>50.79</td>\n",
       "      <td>50.92</td>\n",
       "      <td>0.91</td>\n",
       "      <td>1.41</td>\n",
       "      <td>0.53</td>\n",
       "      <td>0.47</td>\n",
       "      <td>0.53</td>\n",
       "    </tr>\n",
       "    <tr>\n",
       "      <th>std</th>\n",
       "      <td>43.52</td>\n",
       "      <td>43.58</td>\n",
       "      <td>0.09</td>\n",
       "      <td>0.09</td>\n",
       "      <td>45.67</td>\n",
       "      <td>45.63</td>\n",
       "      <td>4.41</td>\n",
       "      <td>4.39</td>\n",
       "      <td>17.28</td>\n",
       "      <td>16.95</td>\n",
       "      <td>0.10</td>\n",
       "      <td>0.10</td>\n",
       "      <td>0.50</td>\n",
       "    </tr>\n",
       "    <tr>\n",
       "      <th>min</th>\n",
       "      <td>1380.75</td>\n",
       "      <td>1377.39</td>\n",
       "      <td>0.27</td>\n",
       "      <td>0.22</td>\n",
       "      <td>1386.35</td>\n",
       "      <td>1383.39</td>\n",
       "      <td>38.80</td>\n",
       "      <td>38.65</td>\n",
       "      <td>-54.86</td>\n",
       "      <td>-66.76</td>\n",
       "      <td>0.25</td>\n",
       "      <td>0.19</td>\n",
       "      <td>0.00</td>\n",
       "    </tr>\n",
       "    <tr>\n",
       "      <th>25%</th>\n",
       "      <td>1473.27</td>\n",
       "      <td>1473.70</td>\n",
       "      <td>0.48</td>\n",
       "      <td>0.41</td>\n",
       "      <td>1474.37</td>\n",
       "      <td>1475.07</td>\n",
       "      <td>47.71</td>\n",
       "      <td>47.77</td>\n",
       "      <td>-11.13</td>\n",
       "      <td>-10.28</td>\n",
       "      <td>0.47</td>\n",
       "      <td>0.40</td>\n",
       "      <td>0.00</td>\n",
       "    </tr>\n",
       "    <tr>\n",
       "      <th>50%</th>\n",
       "      <td>1508.95</td>\n",
       "      <td>1507.45</td>\n",
       "      <td>0.54</td>\n",
       "      <td>0.46</td>\n",
       "      <td>1512.28</td>\n",
       "      <td>1512.24</td>\n",
       "      <td>50.14</td>\n",
       "      <td>50.23</td>\n",
       "      <td>0.78</td>\n",
       "      <td>0.91</td>\n",
       "      <td>0.54</td>\n",
       "      <td>0.46</td>\n",
       "      <td>1.00</td>\n",
       "    </tr>\n",
       "    <tr>\n",
       "      <th>75%</th>\n",
       "      <td>1540.12</td>\n",
       "      <td>1540.21</td>\n",
       "      <td>0.59</td>\n",
       "      <td>0.52</td>\n",
       "      <td>1537.71</td>\n",
       "      <td>1537.49</td>\n",
       "      <td>53.16</td>\n",
       "      <td>53.34</td>\n",
       "      <td>11.82</td>\n",
       "      <td>12.25</td>\n",
       "      <td>0.60</td>\n",
       "      <td>0.53</td>\n",
       "      <td>1.00</td>\n",
       "    </tr>\n",
       "    <tr>\n",
       "      <th>max</th>\n",
       "      <td>1605.07</td>\n",
       "      <td>1603.77</td>\n",
       "      <td>0.78</td>\n",
       "      <td>0.73</td>\n",
       "      <td>1598.56</td>\n",
       "      <td>1599.13</td>\n",
       "      <td>68.00</td>\n",
       "      <td>67.74</td>\n",
       "      <td>57.72</td>\n",
       "      <td>54.73</td>\n",
       "      <td>0.81</td>\n",
       "      <td>0.75</td>\n",
       "      <td>1.00</td>\n",
       "    </tr>\n",
       "  </tbody>\n",
       "</table>\n",
       "</div>"
      ],
      "text/plain": [
       "       elo1_pre  elo2_pre  elo_prob1  elo_prob2  rating1_pre  rating2_pre  pitcher1_rgs  \\\n",
       "count   2466.00   2466.00    2466.00    2466.00      2466.00      2466.00       2466.00   \n",
       "mean    1506.17   1506.04       0.53       0.47      1506.07      1506.01         50.79   \n",
       "std       43.52     43.58       0.09       0.09        45.67        45.63          4.41   \n",
       "min     1380.75   1377.39       0.27       0.22      1386.35      1383.39         38.80   \n",
       "25%     1473.27   1473.70       0.48       0.41      1474.37      1475.07         47.71   \n",
       "50%     1508.95   1507.45       0.54       0.46      1512.28      1512.24         50.14   \n",
       "75%     1540.12   1540.21       0.59       0.52      1537.71      1537.49         53.16   \n",
       "max     1605.07   1603.77       0.78       0.73      1598.56      1599.13         68.00   \n",
       "\n",
       "       pitcher2_rgs  pitcher1_adj  pitcher2_adj  rating_prob1  rating_prob2   result  \n",
       "count       2466.00       2466.00       2466.00       2466.00       2466.00  2466.00  \n",
       "mean          50.92          0.91          1.41          0.53          0.47     0.53  \n",
       "std            4.39         17.28         16.95          0.10          0.10     0.50  \n",
       "min           38.65        -54.86        -66.76          0.25          0.19     0.00  \n",
       "25%           47.77        -11.13        -10.28          0.47          0.40     0.00  \n",
       "50%           50.23          0.78          0.91          0.54          0.46     1.00  \n",
       "75%           53.34         11.82         12.25          0.60          0.53     1.00  \n",
       "max           67.74         57.72         54.73          0.81          0.75     1.00  "
      ]
     },
     "execution_count": 85,
     "metadata": {},
     "output_type": "execute_result"
    }
   ],
   "source": [
    "data.describe()"
   ]
  },
  {
   "cell_type": "markdown",
   "metadata": {},
   "source": [
    "### Correlation of dataset "
   ]
  },
  {
   "cell_type": "code",
   "execution_count": 86,
   "metadata": {},
   "outputs": [
    {
     "name": "stdout",
     "output_type": "stream",
     "text": [
      "              elo1_pre  elo2_pre  elo_prob1  elo_prob2  rating1_pre  rating2_pre  pitcher1_rgs  \\\n",
      "elo1_pre      1.00e+00 -2.04e-02       0.72      -0.72     9.72e-01    -2.88e-02      4.23e-01   \n",
      "elo2_pre     -2.04e-02  1.00e+00      -0.71       0.71    -3.73e-02     9.73e-01     -4.47e-03   \n",
      "elo_prob1     7.18e-01 -7.09e-01       1.00      -1.00     7.10e-01    -6.96e-01      3.04e-01   \n",
      "elo_prob2    -7.18e-01  7.09e-01      -1.00       1.00    -7.10e-01     6.96e-01     -3.04e-01   \n",
      "rating1_pre   9.72e-01 -3.73e-02       0.71      -0.71     1.00e+00    -4.26e-02      4.49e-01   \n",
      "rating2_pre  -2.88e-02  9.73e-01      -0.70       0.70    -4.26e-02     1.00e+00     -5.00e-04   \n",
      "pitcher1_rgs  4.23e-01 -4.47e-03       0.30      -0.30     4.49e-01    -5.00e-04      1.00e+00   \n",
      "pitcher2_rgs -5.97e-03  4.40e-01      -0.31       0.31    -7.53e-03     4.62e-01      1.52e-02   \n",
      "pitcher1_adj -2.95e-02  2.30e-02      -0.03       0.03    -3.29e-02     2.68e-02      8.00e-01   \n",
      "pitcher2_adj  2.42e-02  8.94e-04       0.02      -0.02     2.37e-02    -9.82e-03      2.09e-02   \n",
      "rating_prob1  6.50e-01 -6.55e-01       0.92      -0.92     6.77e-01    -6.73e-01      4.95e-01   \n",
      "rating_prob2 -6.50e-01  6.55e-01      -0.92       0.92    -6.77e-01     6.73e-01     -4.95e-01   \n",
      "result        1.74e-01 -1.43e-01       0.22      -0.22     1.88e-01    -1.43e-01      1.01e-01   \n",
      "\n",
      "              pitcher2_rgs  pitcher1_adj  pitcher2_adj  rating_prob1  rating_prob2  result  \n",
      "elo1_pre         -5.97e-03     -2.95e-02      2.42e-02          0.65         -0.65    0.17  \n",
      "elo2_pre          4.40e-01      2.30e-02      8.94e-04         -0.66          0.66   -0.14  \n",
      "elo_prob1        -3.09e-01     -3.36e-02      1.75e-02          0.92         -0.92    0.22  \n",
      "elo_prob2         3.09e-01      3.36e-02     -1.75e-02         -0.92          0.92   -0.22  \n",
      "rating1_pre      -7.53e-03     -3.29e-02      2.37e-02          0.68         -0.68    0.19  \n",
      "rating2_pre       4.62e-01      2.68e-02     -9.82e-03         -0.67          0.67   -0.14  \n",
      "pitcher1_rgs      1.52e-02      8.00e-01      2.09e-02          0.49         -0.49    0.10  \n",
      "pitcher2_rgs      1.00e+00      1.72e-02      7.99e-01         -0.50          0.50   -0.09  \n",
      "pitcher1_adj      1.72e-02      1.00e+00      2.25e-04          0.21         -0.21    0.02  \n",
      "pitcher2_adj      7.99e-01      2.25e-04      1.00e+00         -0.22          0.22   -0.02  \n",
      "rating_prob1     -4.99e-01      2.13e-01     -2.23e-01          1.00         -1.00    0.23  \n",
      "rating_prob2      4.99e-01     -2.13e-01      2.23e-01         -1.00          1.00   -0.23  \n",
      "result           -8.74e-02      1.81e-02     -2.15e-02          0.23         -0.23    1.00  \n"
     ]
    }
   ],
   "source": [
    "correlation=data.corr()\n",
    "print(correlation)"
   ]
  },
  {
   "cell_type": "markdown",
   "metadata": {},
   "source": [
    "### Visualization of correlation matrix"
   ]
  },
  {
   "cell_type": "code",
   "execution_count": 87,
   "metadata": {},
   "outputs": [
    {
     "data": {
      "image/png": "[encoded data removed]",
      "text/plain": [
       "<Figure size 1440x1440 with 2 Axes>"
      ]
     },
     "metadata": {
      "needs_background": "light"
     },
     "output_type": "display_data"
    }
   ],
   "source": [
    "correlation=data.corr()\n",
    "top_corr_features=correlation.index\n",
    "plt.figure(figsize=(20,20))\n",
    "g=sns.heatmap(data[top_corr_features].corr(),annot=True,cmap=\"RdYlBu\")"
   ]
  },
  {
   "cell_type": "markdown",
   "metadata": {},
   "source": [
    "### Droping columns based on high and low correlation"
   ]
  },
  {
   "cell_type": "code",
   "execution_count": 88,
   "metadata": {},
   "outputs": [],
   "source": [
    "data=data.drop(columns=[\"rating_prob1\",\"rating_prob2\"])"
   ]
  },
  {
   "cell_type": "code",
   "execution_count": 89,
   "metadata": {},
   "outputs": [],
   "source": [
    "data=data.drop(columns=[\"elo_prob1\",\"elo_prob2\"])"
   ]
  },
  {
   "cell_type": "code",
   "execution_count": 90,
   "metadata": {},
   "outputs": [],
   "source": [
    "data=data.drop(columns=[\"rating1_pre\",\"rating2_pre\"])"
   ]
  },
  {
   "cell_type": "code",
   "execution_count": 91,
   "metadata": {},
   "outputs": [],
   "source": [
    "data=data.drop(columns=[\"pitcher1_adj\",\"pitcher2_adj\"])"
   ]
  },
  {
   "cell_type": "markdown",
   "metadata": {},
   "source": [
    "### After removing high and low correlated data"
   ]
  },
  {
   "cell_type": "code",
   "execution_count": 92,
   "metadata": {},
   "outputs": [
    {
     "data": {
      "image/png": "[encoded data removed]",
      "text/plain": [
       "<Figure size 1440x1440 with 2 Axes>"
      ]
     },
     "metadata": {
      "needs_background": "light"
     },
     "output_type": "display_data"
    }
   ],
   "source": [
    "correlation=data.corr()\n",
    "top_corr_features=correlation.index\n",
    "plt.figure(figsize=(20,20))\n",
    "g=sns.heatmap(data[top_corr_features].corr(),annot=True,cmap=\"RdYlBu\")"
   ]
  },
  {
   "cell_type": "markdown",
   "metadata": {},
   "source": [
    "### Skewing the data"
   ]
  },
  {
   "cell_type": "code",
   "execution_count": 93,
   "metadata": {},
   "outputs": [
    {
     "name": "stdout",
     "output_type": "stream",
     "text": [
      "elo1_pre       -0.22\n",
      "elo2_pre       -0.20\n",
      "pitcher1_rgs    0.71\n",
      "pitcher2_rgs    0.66\n",
      "result         -0.11\n",
      "dtype: float64\n"
     ]
    }
   ],
   "source": [
    "skew_data=data.skew()\n",
    "print(skew_data)"
   ]
  },
  {
   "cell_type": "markdown",
   "metadata": {},
   "source": [
    "### Ploting Histogram of the dataset"
   ]
  },
  {
   "cell_type": "code",
   "execution_count": 94,
   "metadata": {
    "scrolled": true
   },
   "outputs": [
    {
     "data": {
      "image/png": "[encoded data removed]",
      "text/plain": [
       "<Figure size 432x288 with 6 Axes>"
      ]
     },
     "metadata": {
      "needs_background": "light"
     },
     "output_type": "display_data"
    }
   ],
   "source": [
    "histogram=data.hist()"
   ]
  },
  {
   "cell_type": "markdown",
   "metadata": {},
   "source": [
    "### Viewing data"
   ]
  },
  {
   "cell_type": "code",
   "execution_count": 95,
   "metadata": {},
   "outputs": [
    {
     "data": {
      "text/html": [
       "<div>\n",
       "<style scoped>\n",
       "    .dataframe tbody tr th:only-of-type {\n",
       "        vertical-align: middle;\n",
       "    }\n",
       "\n",
       "    .dataframe tbody tr th {\n",
       "        vertical-align: top;\n",
       "    }\n",
       "\n",
       "    .dataframe thead th {\n",
       "        text-align: right;\n",
       "    }\n",
       "</style>\n",
       "<table border=\"1\" class=\"dataframe\">\n",
       "  <thead>\n",
       "    <tr style=\"text-align: right;\">\n",
       "      <th></th>\n",
       "      <th>elo1_pre</th>\n",
       "      <th>elo2_pre</th>\n",
       "      <th>pitcher1_rgs</th>\n",
       "      <th>pitcher2_rgs</th>\n",
       "      <th>result</th>\n",
       "    </tr>\n",
       "  </thead>\n",
       "  <tbody>\n",
       "    <tr>\n",
       "      <th>0</th>\n",
       "      <td>1599.54</td>\n",
       "      <td>1584.36</td>\n",
       "      <td>56.92</td>\n",
       "      <td>61.72</td>\n",
       "      <td>0</td>\n",
       "    </tr>\n",
       "    <tr>\n",
       "      <th>1</th>\n",
       "      <td>1605.07</td>\n",
       "      <td>1578.84</td>\n",
       "      <td>62.98</td>\n",
       "      <td>60.27</td>\n",
       "      <td>0</td>\n",
       "    </tr>\n",
       "    <tr>\n",
       "      <th>2</th>\n",
       "      <td>1584.01</td>\n",
       "      <td>1599.90</td>\n",
       "      <td>49.43</td>\n",
       "      <td>66.89</td>\n",
       "      <td>0</td>\n",
       "    </tr>\n",
       "    <tr>\n",
       "      <th>3</th>\n",
       "      <td>1589.99</td>\n",
       "      <td>1593.92</td>\n",
       "      <td>56.00</td>\n",
       "      <td>51.25</td>\n",
       "      <td>0</td>\n",
       "    </tr>\n",
       "    <tr>\n",
       "      <th>4</th>\n",
       "      <td>1593.83</td>\n",
       "      <td>1590.08</td>\n",
       "      <td>54.04</td>\n",
       "      <td>57.10</td>\n",
       "      <td>0</td>\n",
       "    </tr>\n",
       "  </tbody>\n",
       "</table>\n",
       "</div>"
      ],
      "text/plain": [
       "   elo1_pre  elo2_pre  pitcher1_rgs  pitcher2_rgs  result\n",
       "0   1599.54   1584.36         56.92         61.72       0\n",
       "1   1605.07   1578.84         62.98         60.27       0\n",
       "2   1584.01   1599.90         49.43         66.89       0\n",
       "3   1589.99   1593.92         56.00         51.25       0\n",
       "4   1593.83   1590.08         54.04         57.10       0"
      ]
     },
     "execution_count": 95,
     "metadata": {},
     "output_type": "execute_result"
    }
   ],
   "source": [
    "data.head()"
   ]
  },
  {
   "cell_type": "markdown",
   "metadata": {},
   "source": [
    "### Box Plot of dataset"
   ]
  },
  {
   "cell_type": "code",
   "execution_count": 96,
   "metadata": {},
   "outputs": [
    {
     "data": {
      "image/png": "[encoded data removed]",
      "text/plain": [
       "<Figure size 432x288 with 1 Axes>"
      ]
     },
     "metadata": {
      "needs_background": "light"
     },
     "output_type": "display_data"
    }
   ],
   "source": [
    "box=data.plot(kind='box',subplots=False,layout=(3,3),sharex=False,sharey=False)"
   ]
  },
  {
   "cell_type": "markdown",
   "metadata": {},
   "source": [
    "### Density graph of dataset"
   ]
  },
  {
   "cell_type": "code",
   "execution_count": 97,
   "metadata": {},
   "outputs": [
    {
     "data": {
      "image/png": "[encoded data removed]",
      "text/plain": [
       "<Figure size 432x288 with 9 Axes>"
      ]
     },
     "metadata": {
      "needs_background": "light"
     },
     "output_type": "display_data"
    }
   ],
   "source": [
    "density=data.plot(kind='density',subplots=True,layout=(3,3),sharex=False,sharey=False)"
   ]
  },
  {
   "cell_type": "markdown",
   "metadata": {},
   "source": [
    "### Rescaling data from 0 to 1 range"
   ]
  },
  {
   "cell_type": "code",
   "execution_count": 98,
   "metadata": {},
   "outputs": [
    {
     "name": "stdout",
     "output_type": "stream",
     "text": [
      "[[0.975 0.914 0.621 0.793]\n",
      " [1.    0.89  0.828 0.743]\n",
      " [0.906 0.983 0.364 0.971]\n",
      " [0.933 0.957 0.589 0.433]\n",
      " [0.95  0.94  0.522 0.634]]\n"
     ]
    }
   ],
   "source": [
    "from sklearn.preprocessing import MinMaxScaler\n",
    "from numpy import set_printoptions\n",
    "array=data.values\n",
    "x=array[:,0:4]\n",
    "scale=MinMaxScaler(feature_range=(0,1))\n",
    "rescale_data=scale.fit_transform(x)\n",
    "set_printoptions(precision=3)\n",
    "print(rescale_data[0:5,:])"
   ]
  },
  {
   "cell_type": "markdown",
   "metadata": {},
   "source": [
    "### Data Standardisation"
   ]
  },
  {
   "cell_type": "code",
   "execution_count": 99,
   "metadata": {},
   "outputs": [
    {
     "name": "stdout",
     "output_type": "stream",
     "text": [
      "[[ 2.146  1.797  1.393  2.463]\n",
      " [ 2.273  1.671  2.768  2.132]\n",
      " [ 1.789  2.154 -0.307  3.64 ]\n",
      " [ 1.926  2.017  1.185  0.076]\n",
      " [ 2.015  1.929  0.738  1.408]]\n"
     ]
    }
   ],
   "source": [
    "from sklearn.preprocessing import StandardScaler\n",
    "scaler=StandardScaler()\n",
    "rescale_data=scaler.fit_transform(x)\n",
    "set_printoptions(precision=3)\n",
    "print(rescale_data[0:5,:])"
   ]
  },
  {
   "cell_type": "markdown",
   "metadata": {},
   "source": [
    "### Data Normalization"
   ]
  },
  {
   "cell_type": "code",
   "execution_count": 100,
   "metadata": {},
   "outputs": [
    {
     "name": "stdout",
     "output_type": "stream",
     "text": [
      "[[0.71  0.703 0.025 0.027]\n",
      " [0.712 0.701 0.028 0.027]\n",
      " [0.703 0.71  0.022 0.03 ]\n",
      " [0.706 0.708 0.025 0.023]\n",
      " [0.708 0.706 0.024 0.025]]\n"
     ]
    }
   ],
   "source": [
    "from sklearn.preprocessing import Normalizer\n",
    "scaler=Normalizer()\n",
    "rescale_data=scaler.fit_transform(x)\n",
    "set_printoptions(precision=3)\n",
    "print(rescale_data[0:5,:])"
   ]
  },
  {
   "cell_type": "markdown",
   "metadata": {},
   "source": [
    "### Adding the normalized data into dataframe"
   ]
  },
  {
   "cell_type": "code",
   "execution_count": 101,
   "metadata": {},
   "outputs": [],
   "source": [
    "rescale_data=pd.DataFrame(rescale_data)"
   ]
  },
  {
   "cell_type": "code",
   "execution_count": 102,
   "metadata": {},
   "outputs": [],
   "source": [
    "feature_data=rescale_data.values\n",
    "label_data=data.values[:,4]"
   ]
  },
  {
   "cell_type": "markdown",
   "metadata": {},
   "source": [
    "### Training the data into 70 - 30% ratio"
   ]
  },
  {
   "cell_type": "code",
   "execution_count": 103,
   "metadata": {},
   "outputs": [],
   "source": [
    "trainf,testf,trainl,testl = train_test_split(feature_data,label_data,test_size=.30,random_state=15)"
   ]
  },
  {
   "cell_type": "code",
   "execution_count": 104,
   "metadata": {},
   "outputs": [
    {
     "name": "stdout",
     "output_type": "stream",
     "text": [
      "1726\n",
      "740\n",
      "1726\n",
      "740\n"
     ]
    }
   ],
   "source": [
    "print(len(trainf))\n",
    "print(len(testf))\n",
    "print(len(trainl))\n",
    "print(len(testl))"
   ]
  },
  {
   "cell_type": "markdown",
   "metadata": {},
   "source": [
    "## 3. Fitting the model"
   ]
  },
  {
   "cell_type": "code",
   "execution_count": 105,
   "metadata": {},
   "outputs": [],
   "source": [
    "classifier=DecisionTreeClassifier()"
   ]
  },
  {
   "cell_type": "code",
   "execution_count": 106,
   "metadata": {},
   "outputs": [
    {
     "data": {
      "text/plain": [
       "DecisionTreeClassifier(ccp_alpha=0.0, class_weight=None, criterion='gini',\n",
       "                       max_depth=None, max_features=None, max_leaf_nodes=None,\n",
       "                       min_impurity_decrease=0.0, min_impurity_split=None,\n",
       "                       min_samples_leaf=1, min_samples_split=2,\n",
       "                       min_weight_fraction_leaf=0.0, presort='deprecated',\n",
       "                       random_state=None, splitter='best')"
      ]
     },
     "execution_count": 106,
     "metadata": {},
     "output_type": "execute_result"
    }
   ],
   "source": [
    "classifier.fit(trainf,trainl)"
   ]
  },
  {
   "cell_type": "markdown",
   "metadata": {},
   "source": [
    "## 4. Data Prediction"
   ]
  },
  {
   "cell_type": "code",
   "execution_count": 107,
   "metadata": {},
   "outputs": [],
   "source": [
    "pred_res=classifier.predict(testf)"
   ]
  },
  {
   "cell_type": "markdown",
   "metadata": {},
   "source": [
    "## 5. Data Evaluation"
   ]
  },
  {
   "cell_type": "code",
   "execution_count": 108,
   "metadata": {},
   "outputs": [],
   "source": [
    "accuracy=accuracy_score(testl,pred_res)"
   ]
  },
  {
   "cell_type": "code",
   "execution_count": 109,
   "metadata": {},
   "outputs": [
    {
     "name": "stdout",
     "output_type": "stream",
     "text": [
      "Accuracy of the model is 54.59459459459459\n"
     ]
    }
   ],
   "source": [
    "print(\"Accuracy of the model is {}\". format(accuracy*100))"
   ]
  },
  {
   "cell_type": "code",
   "execution_count": null,
   "metadata": {},
   "outputs": [],
   "source": []
  },
  {
   "cell_type": "code",
   "execution_count": null,
   "metadata": {},
   "outputs": [],
   "source": []
  },
  {
   "cell_type": "code",
   "execution_count": null,
   "metadata": {},
   "outputs": [],
   "source": []
  },
  {
   "cell_type": "code",
   "execution_count": null,
   "metadata": {},
   "outputs": [],
   "source": []
  },
  {
   "cell_type": "code",
   "execution_count": null,
   "metadata": {},
   "outputs": [],
   "source": []
  }
 ],
 "metadata": {
  "kernelspec": {
   "display_name": "Python 3",
   "language": "python",
   "name": "python3"
  },
  "language_info": {
   "codemirror_mode": {
    "name": "ipython",
    "version": 3
   },
   "file_extension": ".py",
   "mimetype": "text/x-python",
   "name": "python",
   "nbconvert_exporter": "python",
   "pygments_lexer": "ipython3",
   "version": "3.7.6"
  }
 },
 "nbformat": 4,
 "nbformat_minor": 4
}
